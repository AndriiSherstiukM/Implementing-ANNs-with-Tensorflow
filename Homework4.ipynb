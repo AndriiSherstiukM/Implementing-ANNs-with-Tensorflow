{
 "cells": [
  {
   "cell_type": "markdown",
   "id": "ad80aa18",
   "metadata": {},
   "source": [
    "# 2 Assignment: MNIST math\n",
    "We are revisiting MNIST handwritten digits, but with a twist: We are not classifying handwritten digits, but rather asking our network to do some simple math on them: In subtask (1) we want to know whether a + b ≥ 5, in subtask (2) we want to predict y = a − b, where a and b are respective MNIST digits!\n",
    "    In the following we ask you to write code (specifically your model and training data preparation) in a parameterized way, which allows you to reuse nearly all of the code for both subtasks, to minimize the effort required for this homework! We will try and give some hints on how to easily achieve this in the following. If there are any open questions, make sure to ask away in the QnA\n",
    "sessions."
   ]
  },
  {
   "cell_type": "markdown",
   "id": "6531cc44",
   "metadata": {},
   "source": [
    "## 2.1 Preparing MNIST math dataset\n",
    "Remember from last week:he MNIST dataset consists of seventy thousand labelled images, each depicting a single handwritten digit. This may sound like alot of data, but as you’ll see for yourselves in a bit, the images are rather small.\n",
    "    The MNIST dataset is included in TensorFlow, so you getting access to it is actually pretty easy. You can load it directly into your code like this:"
   ]
  },
  {
   "cell_type": "code",
   "execution_count": 1,
   "id": "2165b409",
   "metadata": {},
   "outputs": [],
   "source": [
    "import tensorflow as tf\n",
    "import tensorflow_datasets as tfds\n",
    "from tensorflow import keras\n",
    "from keras.layers import Dense\n",
    "import numpy as np\n",
    "import matplotlib.pyplot as plt\n",
    "import datetime\n",
    "import tqdm\n",
    "\n",
    "# Magic line only needed in jupyter notebooks!\n",
    "%load_ext tensorboard\n",
    "\n",
    "# Load mnist from tensorflow_datasets\n",
    "train_ds, test_ds = tfds.load('mnist', split=['train', 'test'], as_supervised=True)"
   ]
  },
  {
   "cell_type": "markdown",
   "id": "6adb14ec",
   "metadata": {},
   "source": [
    "## 2.2 Two MNIST math datasets\n",
    "Remember that for the following you want to create a preprocessing function.\n",
    "As subtask (1) an substask (2) require very similar inputs, we will create a parameterized preprocessing function - mapping a dataset and the ’subtraction’ or ’larger than five’ condition onto respective datasets. We will generally have three different steps to our preprocssing - general MNIST preprocessing (datatype, normalization, etc.), pairing data tuples onto respective parameterized targets, and finally batching and prefetching.\n",
    "    As a first step, for general preprocessing steps we follow last weeks ideas closely. You may follow the example code from the lecture (i.e. L03) again, but to summarize the steps:\n",
    "    The MNIST handwritten digits images come in uint8 datatype. This refers to unsigned 8-bit integers (think numbers 0-255). As the network requires float values (think continuous variables) as input rather than integers (whole numbers), we need to change the datatype: (map in combination with lambda expressions can be really useful here). In your first lambda mapping you want to change the datatype from uint8 to tf.float values. To feed your network the 28x28 images also need to be flattened. Check out the reshape function, and if you want to minimize your work, try and understand how it interacts with size elements set to the value -1 (infering the remainder shape). In order to improve the performance you should also normalize your image values. Generally this means bringing the input close to the standart normal (gaussian) distribution with µ = 0 and σ = 1, however we can make a quick approximation as that: Knowing the inputs are in the 0-255 interval, we can simply divide all numbers by 128 (bringing them between 0-2), and finally subtracting one (bringing them into -1 to 1 range).\n",
    "    Second Step is figuring out the parameterized targets: Think about the following: What kind of supervised learning task and respective loss-function and target type are required for our two subtasks respectively? It makes sense to work yourself through this backwards: First understand what loss function is required for each. Then check the respective TensorFlow documentation to find out how your targets should look. Once you know what target data-representation is needed for each, we can move to the second step: Each datapoint fed into the network requires two MNIST images as input, with one target being created from their combination. We will discuss many approaches to combining dataset elements - but the dataset zip functionality 5 probably is the most direct solution (as alternatives you might check out the respective window, scan or even\n",
    "batch functions!). After pairing two dataset elements, you can now make sure each dataset element gets two input mnist images, but you still have to calculate the respective target as the third element.\n",
    "    Before finalizing the dataset in the third step we recommend checking your dataset at this point - you expect each element to be a triple (tuple with three elements), the first two of which are images, the last one the respective target. Finally we shuffle and (mini-)batch the dataset, and can use the apply method to create datasets for both the a + b ≥ 5 and a − b = y problem!"
   ]
  },
  {
   "cell_type": "code",
   "execution_count": 2,
   "id": "c0045300",
   "metadata": {},
   "outputs": [],
   "source": [
    "# Create our dataset\n",
    "def prepare_math_minst_data(math_mnist, batch_size, subtask):\n",
    "    \n",
    "    # math_mnist = math_mnist.map(lambda img_x, target: (tf.cast(img_x, tf.float32) / 128. - 1, target))\n",
    "    # flatten the images into vector\n",
    "    math_mnist = math_mnist.map(lambda img_x, target: (tf.reshape(img_x, (-1,)), target))\n",
    "    # Convert data from uint8 to float32\n",
    "    math_mnist = math_mnist.map(lambda img_x, target: (tf.cast(img_x, tf.float32), target))\n",
    "    # Sloppy input normalization, just bringing image values from range [0, 255] to [-1, 1]\n",
    "    math_mnist = math_mnist.map(lambda img_x, target: ((img_x/128.)-1., target))\n",
    "    # Shuffle data\n",
    "    # we want to have two mnist images in each example\n",
    "    # this leads to a single example being ((img_x1,img_y1),(img_x2,img_y2))\n",
    "    zipped_dataset = tf.data.Dataset.zip((math_mnist.shuffle(2000),\n",
    "                                        math_mnist.shuffle(2000)))\n",
    "    # Subtask 1: a + b ≥ 5\n",
    "    if subtask == 1:\n",
    "        # Create targets\n",
    "        zipped_dataset = zipped_dataset.map(lambda img_x1, img_x2: (img_x1[0], img_x2[0],\n",
    "                                        tf.cast((img_x1[1] + img_x2[1] >= 5), tf.int32)))\n",
    "    # Subtask 2: y == a - b \n",
    "    elif subtask == 2:\n",
    "        # Create targets\n",
    "        zipped_dataset = zipped_dataset.map(lambda img_x1, img_x2: (img_x1[0], img_x2[0],\n",
    "                                        tf.cast((img_x1[1] - img_x2[1]), tf.int32)))\n",
    "        zipped_dataset = zipped_dataset.map(lambda img_x1, img_x2, target: (img_x1, img_x2, \n",
    "                                        tf.one_hot(target, depth=19)))\n",
    "    # Cache this progress in memory\n",
    "    zipped_dataset.cache()\n",
    "    # Shuffle data\n",
    "    zipped_dataset = zipped_dataset.shuffle(2000)\n",
    "    # Batch data\n",
    "    zipped_dataset = zipped_dataset.batch(batch_size)\n",
    "    # Prefetch data\n",
    "    zipped_dataset = zipped_dataset.prefetch(tf.data.AUTOTUNE)\n",
    "    # Return preprocessed dataset\n",
    "    return zipped_dataset"
   ]
  },
  {
   "cell_type": "markdown",
   "id": "164e57d8",
   "metadata": {},
   "source": [
    "# 3 Building shared weight models\n",
    "In this step we have to build a network, that can solve the math task: This requires a network that takes two inputs (i.e. two input images), and outputs, i.e. predicts the math result. Technically you could just combine (e.g. concatenate) the two input images into one vector, however this would be rather inefficient. Instead we want you to learn about weight-sharing in a hands-on way: One intuitive way to solve this task would be to feed both inputs seperatedly into a layer, then combine (e.g. concatenate) the results from this layer. But both of these input layers would have to solve essentially the same problem for their respective input images: Extract the information, what digit is depicted! As both are basically tasked with the same problem, and have the same input and output shapes, we can improve our network by using the same layer for both inputs.  Finally you have to make sure to parameterize your model to use the correct activation functions for subtasks (1) and subtask (2) respectively."
   ]
  },
  {
   "cell_type": "code",
   "execution_count": 3,
   "id": "04b9bcb5",
   "metadata": {},
   "outputs": [],
   "source": [
    "class MyNNmodel(tf.keras.Model):\n",
    "    def __init__(self, optimizer, subtask):\n",
    "        # Inherit functionality from parent class\n",
    "        super(MyNNmodel, self).__init__()\n",
    "        # self.flatten = tf.keras.layers.Flatten()\n",
    "        # Optimizer\n",
    "        self.optimizer = optimizer\n",
    "        self.subtask = subtask\n",
    "        # layers to encode the images (both layers used for both images)\n",
    "        self.dense1 = tf.keras.layers.Dense(128, activation=tf.nn.relu)\n",
    "        self.dense2 = tf.keras.layers.Dense(128, activation=tf.nn.relu)\n",
    "        self.dense3 = tf.keras.layers.Dense(128, activation=tf.nn.relu)\n",
    "        \n",
    "        if self.subtask == 1:\n",
    "            # loss function\n",
    "            self.loss_function = tf.keras.losses.BinaryCrossentropy()\n",
    "            # Metrix\n",
    "            self.metrics_list = [\n",
    "                tf.keras.metrics.BinaryAccuracy(name='accuracy'), \n",
    "                tf.keras.metrics.Mean(name='loss')\n",
    "                ]\n",
    "            self.out_layer = tf.keras.layers.Dense(1,activation=tf.nn.sigmoid)\n",
    "\n",
    "        elif self.subtask == 2:\n",
    "            # loss function\n",
    "            self.loss_function = tf.keras.losses.CategoricalCrossentropy()\n",
    "            # Metrix\n",
    "            self.metrics_list = [\n",
    "                tf.keras.metrics.CategoricalAccuracy(name='accuracy'), \n",
    "                tf.keras.metrics.Mean(name='loss')\n",
    "                ]\n",
    "            self.out_layer = tf.keras.layers.Dense(19,activation=tf.nn.softmax)\n",
    "            \n",
    "    # Call method(forward computation)\n",
    "    @tf.function\n",
    "    def __call__(self, images, training=False):\n",
    "        img1, img2 = images\n",
    "        \n",
    "        # img1_x = self.flatten(img1)\n",
    "        # img2_x = self.flatten(img2)\n",
    "        \n",
    "        img1_x = self.dense1(img1)\n",
    "        img1_x = self.dense2(img1_x)\n",
    "        \n",
    "        img2_x = self.dense1(img2)\n",
    "        img2_x = self.dense2(img2_x)\n",
    "        \n",
    "        combined_x = tf.concat([img1_x, img2_x ], axis=1)\n",
    "        combined_x = self.dense3(combined_x)\n",
    "        return self.out_layer(combined_x)\n",
    "\n",
    "\n",
    "    # Metrics property\n",
    "    @property\n",
    "    def metrics(self):\n",
    "        return self.metrics_list\n",
    "        # return a list with all metrics in the model\n",
    "\n",
    "    # Reset all metrics objects\n",
    "    def reset_metrics(self):\n",
    "        for metric in self.metrics:\n",
    "            metric.reset_states()\n",
    "\n",
    "    # Train step method\n",
    "    @tf.function\n",
    "    def train_step(self, data):\n",
    "        img1, img2, label = data\n",
    "\n",
    "        with tf.GradientTape() as tape:\n",
    "            output = self((img1, img2), training=True)\n",
    "            loss = self.loss_function(label, output)\n",
    "\n",
    "        gradients = tape.gradient(loss, self.trainable_variables)\n",
    "        self.optimizer.apply_gradients(zip(gradients, self.trainable_variables))\n",
    "\n",
    "        # Update the state of the metrics according to loss\n",
    "        self.metrics[0].update_state(label, output)\n",
    "        self.metrics[1].update_state(loss)\n",
    "\n",
    "        # Return a dictionary with metric names as keys and metric results as values\n",
    "        return {m.name: m.result() for m in self.metrics}\n",
    "\n",
    "    # Test step method\n",
    "    @tf.function\n",
    "    def test_step(self, data):\n",
    "        img1, img2, label = data\n",
    "\n",
    "        # The same as train step(without parameter updates)\n",
    "        output = self((img1, img2), training=True)\n",
    "        loss = self.loss_function(label, output)\n",
    "\n",
    "        # Update the state of the metrics according to loss\n",
    "        self.metrics[0].update_state(label, output)\n",
    "        self.metrics[1].update_state(loss)\n",
    "\n",
    "        # Return a dictionary with metric names as keys and metric results as values\n",
    "        return {m.name: m.result() for m in self.metrics}"
   ]
  },
  {
   "cell_type": "markdown",
   "id": "33663634",
   "metadata": {},
   "source": [
    "# 4 Training the networks\n",
    "Create a training function (with an internal training loop function), which is able to run either of the two subtasks. The function takes two inputs: The subtask to solve and the optimizer to use for it, both specified via inputs: Write the\n",
    "function, such that it creates respective models and datasets based on the parameterized preprocessing function you have written before. Choose the correct\n",
    "loss-function for the task and run training."
   ]
  },
  {
   "cell_type": "code",
   "execution_count": 4,
   "id": "08b33f4e",
   "metadata": {},
   "outputs": [],
   "source": [
    "def create_summary_writers(config_name):\n",
    "    # Define where to save the logs\n",
    "    # along with this, you may want to save a config file with the same name so you know what the hyperparameters were used\n",
    "    # Alternatively make a copy of the code that is used for later reference\n",
    "    current_time = datetime.datetime.now().strftime('%Y%m%d-%H%M%S')\n",
    "    train_log_path = f\"logs/{config_name}/{current_time}/train\"\n",
    "    test_log_path = f\"logs/{config_name}/{current_time}/train\"\n",
    "\n",
    "    # Log writer for training metrics\n",
    "    train_summary_writer = tf.summary.create_file_writer(train_log_path)\n",
    "    # log writer for validation metrics\n",
    "    test_summary_writer = tf.summary.create_file_writer(test_log_path)\n",
    "    \n",
    "    return train_summary_writer, test_summary_writer"
   ]
  },
  {
   "cell_type": "code",
   "execution_count": 5,
   "id": "01728839",
   "metadata": {},
   "outputs": [],
   "source": [
    "def train_loop(model, train_ds, test_ds, start_epoch, \n",
    "                epochs, train_summary_writer, \n",
    "                test_summary_writer, save_path):\n",
    "\n",
    "    #1. Iterate over epochs\n",
    "    for epoch in range(start_epoch, epochs):\n",
    "        # 2. Train steps on all batches in the training data\n",
    "        for data in tqdm.tqdm(train_ds, position=0, leave=True):\n",
    "            metrics = model.train_step(data)\n",
    "        \n",
    "        # Print the Epoch number\n",
    "        print(f'Epoch: {epoch}')\n",
    "        \n",
    "        # 3.log and print training metrics \n",
    "        with train_summary_writer.as_default():\n",
    "            # for scalar metrics:\n",
    "            for metric in model.metrics:\n",
    "                tf.summary.scalar(f'{metric.name}', metric.result(), step=epoch)\n",
    "            # Alternatively, log metrics individually (allows for non-scalar metrics such as tf.keras.metrics.MeanTensor)\n",
    "            # e.g. tf.summary.image(name=\"mean_activation_layer3\", data = metrics[\"mean_activation_layer3\"],step=e)\n",
    "        \n",
    "        # Print the metrics\n",
    "        print([f'{key}: {value.numpy()}' for (key, value) in metrics.items()])\n",
    "\n",
    "        # 4. Reset metric objects\n",
    "        model.reset_metrics()\n",
    "\n",
    "        # 5. Evaluate on validation data\n",
    "        for data in test_ds:\n",
    "            metrics = model.test_step(data)\n",
    "\n",
    "        # 6. Log validationmetric\n",
    "        with test_summary_writer.as_default():\n",
    "            # for scalar metrics:\n",
    "            for metric in model.metrics:\n",
    "                tf.summary.scalar(f'{metric.name}', metric.result(), step=epoch)\n",
    "            # Alternatively, log metrics individually (allows for non-scalar metrics such as tf.keras.metrics.MeanTensor)\n",
    "\n",
    "        print([f'test_{key}: {value.numpy()}' for (key, value) in metrics.items()])\n",
    "        # 7. Reset metric objects\n",
    "        model.reset_metrics()\n",
    "\n",
    "    # 8. Save the model weghts if save_path is given\n",
    "    if save_path:\n",
    "        model.save_weights(save_path)"
   ]
  },
  {
   "cell_type": "markdown",
   "id": "001d1ae6",
   "metadata": {},
   "source": [
    "# 5  Experiments\n",
    "Run training with a classic SGD optimizer (without momentum) and an Adam Optimizer. For an outstanding submission, you are required to also add SGD with Momentum, RMSProp and AdaGrad optimizers and compare the training results by plotting them cleanly side-by-side."
   ]
  },
  {
   "cell_type": "code",
   "execution_count": 6,
   "id": "4cda2c21",
   "metadata": {},
   "outputs": [],
   "source": [
    "def train(optimizer, save_path, batch_size, subtask):\n",
    "    \n",
    "    train_summary_writer, test_summary_writer = create_summary_writers(config_name='RUN1')\n",
    "\n",
    "    train_dataset = prepare_math_minst_data(train_ds, batch_size, subtask)\n",
    "    test_dataset = prepare_math_minst_data(test_ds, batch_size, subtask)\n",
    "    \n",
    "    # Сheck the contents of the dataset\n",
    "    for img1, img2, label in train_dataset:\n",
    "        print(img1.shape, img2.shape, label.shape)\n",
    "        break\n",
    "\n",
    "    print('\\n\\n')\n",
    "\n",
    "    # Instance model with Adam optimizer\n",
    "    model = MyNNmodel(optimizer, subtask)\n",
    "\n",
    "    # Pass arguments to training loop function\n",
    "    train_loop(model=model,\n",
    "                train_ds=train_dataset,\n",
    "                test_ds=test_dataset,\n",
    "                start_epoch=0,\n",
    "                epochs=10,\n",
    "                train_summary_writer=train_summary_writer,\n",
    "                test_summary_writer=test_summary_writer,\n",
    "                save_path=save_path)\n"
   ]
  },
  {
   "cell_type": "code",
   "execution_count": 7,
   "id": "4a398225",
   "metadata": {},
   "outputs": [
    {
     "name": "stdout",
     "output_type": "stream",
     "text": [
      "(32, 784) (32, 784) (32,)\n",
      "\n",
      "\n",
      "\n"
     ]
    },
    {
     "name": "stderr",
     "output_type": "stream",
     "text": [
      "100%|█████████████████████████████████████████████████████████████████████████████| 1875/1875 [00:18<00:00, 103.75it/s]\n"
     ]
    },
    {
     "name": "stdout",
     "output_type": "stream",
     "text": [
      "Epoch: 0\n",
      "['accuracy: 0.8417999744415283', 'loss: 2.4104807376861572']\n",
      "['test_accuracy: 0.8388000130653381', 'test_loss: 2.4588167667388916']\n"
     ]
    },
    {
     "name": "stderr",
     "output_type": "stream",
     "text": [
      "100%|█████████████████████████████████████████████████████████████████████████████| 1875/1875 [00:12<00:00, 153.31it/s]\n"
     ]
    },
    {
     "name": "stdout",
     "output_type": "stream",
     "text": [
      "Epoch: 1\n",
      "['accuracy: 0.8427666425704956', 'loss: 2.3977105617523193']\n",
      "['test_accuracy: 0.8385000228881836', 'test_loss: 2.4633843898773193']\n"
     ]
    },
    {
     "name": "stderr",
     "output_type": "stream",
     "text": [
      "100%|█████████████████████████████████████████████████████████████████████████████| 1875/1875 [00:11<00:00, 160.21it/s]\n"
     ]
    },
    {
     "name": "stdout",
     "output_type": "stream",
     "text": [
      "Epoch: 2\n",
      "['accuracy: 0.8395500183105469', 'loss: 2.4467613697052']\n",
      "['test_accuracy: 0.8413000106811523', 'test_loss: 2.420754909515381']\n"
     ]
    },
    {
     "name": "stderr",
     "output_type": "stream",
     "text": [
      "100%|█████████████████████████████████████████████████████████████████████████████| 1875/1875 [00:16<00:00, 114.29it/s]\n"
     ]
    },
    {
     "name": "stdout",
     "output_type": "stream",
     "text": [
      "Epoch: 3\n",
      "['accuracy: 0.8413500189781189', 'loss: 2.4193131923675537']\n",
      "['test_accuracy: 0.8418999910354614', 'test_loss: 2.410097599029541']\n"
     ]
    },
    {
     "name": "stderr",
     "output_type": "stream",
     "text": [
      "100%|█████████████████████████████████████████████████████████████████████████████| 1875/1875 [00:16<00:00, 115.48it/s]\n"
     ]
    },
    {
     "name": "stdout",
     "output_type": "stream",
     "text": [
      "Epoch: 4\n",
      "['accuracy: 0.8421333432197571', 'loss: 2.4073686599731445']\n",
      "['test_accuracy: 0.8360000252723694', 'test_loss: 2.502969741821289']\n"
     ]
    },
    {
     "name": "stderr",
     "output_type": "stream",
     "text": [
      "100%|█████████████████████████████████████████████████████████████████████████████| 1875/1875 [00:16<00:00, 114.99it/s]\n"
     ]
    },
    {
     "name": "stdout",
     "output_type": "stream",
     "text": [
      "Epoch: 5\n",
      "['accuracy: 0.8430333137512207', 'loss: 2.393643856048584']\n",
      "['test_accuracy: 0.8424999713897705', 'test_loss: 2.4040074348449707']\n"
     ]
    },
    {
     "name": "stderr",
     "output_type": "stream",
     "text": [
      "100%|█████████████████████████████████████████████████████████████████████████████| 1875/1875 [00:16<00:00, 116.23it/s]\n"
     ]
    },
    {
     "name": "stdout",
     "output_type": "stream",
     "text": [
      "Epoch: 6\n",
      "['accuracy: 0.8425166606903076', 'loss: 2.401521682739258']\n",
      "['test_accuracy: 0.8381999731063843', 'test_loss: 2.472519636154175']\n"
     ]
    },
    {
     "name": "stderr",
     "output_type": "stream",
     "text": [
      "100%|█████████████████████████████████████████████████████████████████████████████| 1875/1875 [00:16<00:00, 116.28it/s]\n"
     ]
    },
    {
     "name": "stdout",
     "output_type": "stream",
     "text": [
      "Epoch: 7\n",
      "['accuracy: 0.8399333357810974', 'loss: 2.440917730331421']\n",
      "['test_accuracy: 0.8373000025749207', 'test_loss: 2.4770870208740234']\n"
     ]
    },
    {
     "name": "stderr",
     "output_type": "stream",
     "text": [
      "100%|█████████████████████████████████████████████████████████████████████████████| 1875/1875 [00:16<00:00, 111.99it/s]\n"
     ]
    },
    {
     "name": "stdout",
     "output_type": "stream",
     "text": [
      "Epoch: 8\n",
      "['accuracy: 0.8397499918937683', 'loss: 2.4437127113342285']\n",
      "['test_accuracy: 0.8360000252723694', 'test_loss: 2.501446485519409']\n"
     ]
    },
    {
     "name": "stderr",
     "output_type": "stream",
     "text": [
      "100%|█████████████████████████████████████████████████████████████████████████████| 1875/1875 [00:16<00:00, 111.97it/s]\n"
     ]
    },
    {
     "name": "stdout",
     "output_type": "stream",
     "text": [
      "Epoch: 9\n",
      "['accuracy: 0.8414499759674072', 'loss: 2.4177873134613037']\n",
      "['test_accuracy: 0.8379999995231628', 'test_loss: 2.4664289951324463']\n",
      "(32, 784) (32, 784) (32, 19)\n",
      "\n",
      "\n",
      "\n"
     ]
    },
    {
     "name": "stderr",
     "output_type": "stream",
     "text": [
      "100%|██████████████████████████████████████████████████████████████████████████████| 1875/1875 [00:21<00:00, 88.06it/s]\n"
     ]
    },
    {
     "name": "stdout",
     "output_type": "stream",
     "text": [
      "Epoch: 0\n",
      "['accuracy: 0.5507166385650635', 'loss: 7.235142707824707']\n",
      "['test_accuracy: 0.5515000224113464', 'test_loss: 7.227071762084961']\n"
     ]
    },
    {
     "name": "stderr",
     "output_type": "stream",
     "text": [
      "100%|█████████████████████████████████████████████████████████████████████████████| 1875/1875 [00:17<00:00, 106.35it/s]\n"
     ]
    },
    {
     "name": "stdout",
     "output_type": "stream",
     "text": [
      "Epoch: 1\n",
      "['accuracy: 0.5504500269889832', 'loss: 7.245877265930176']\n",
      "['test_accuracy: 0.5530999898910522', 'test_loss: 7.202935695648193']\n"
     ]
    },
    {
     "name": "stderr",
     "output_type": "stream",
     "text": [
      "100%|█████████████████████████████████████████████████████████████████████████████| 1875/1875 [00:17<00:00, 109.33it/s]\n"
     ]
    },
    {
     "name": "stdout",
     "output_type": "stream",
     "text": [
      "Epoch: 2\n",
      "['accuracy: 0.5503000020980835', 'loss: 7.248290061950684']\n",
      "['test_accuracy: 0.5478000044822693', 'test_loss: 7.288224697113037']\n"
     ]
    },
    {
     "name": "stderr",
     "output_type": "stream",
     "text": [
      "100%|█████████████████████████████████████████████████████████████████████████████| 1875/1875 [00:17<00:00, 105.58it/s]\n"
     ]
    },
    {
     "name": "stdout",
     "output_type": "stream",
     "text": [
      "Epoch: 3\n",
      "['accuracy: 0.553600013256073', 'loss: 7.19509744644165']\n",
      "['test_accuracy: 0.5493000149726868', 'test_loss: 7.2640862464904785']\n"
     ]
    },
    {
     "name": "stderr",
     "output_type": "stream",
     "text": [
      "100%|█████████████████████████████████████████████████████████████████████████████| 1875/1875 [00:17<00:00, 105.57it/s]\n"
     ]
    },
    {
     "name": "stdout",
     "output_type": "stream",
     "text": [
      "Epoch: 4\n",
      "['accuracy: 0.5512499809265137', 'loss: 7.232974529266357']\n",
      "['test_accuracy: 0.553600013256073', 'test_loss: 7.194888114929199']\n"
     ]
    },
    {
     "name": "stderr",
     "output_type": "stream",
     "text": [
      "100%|█████████████████████████████████████████████████████████████████████████████| 1875/1875 [00:17<00:00, 107.92it/s]\n"
     ]
    },
    {
     "name": "stdout",
     "output_type": "stream",
     "text": [
      "Epoch: 5\n",
      "['accuracy: 0.5494833588600159', 'loss: 7.261453628540039']\n",
      "['test_accuracy: 0.5501000285148621', 'test_loss: 7.252821445465088']\n"
     ]
    },
    {
     "name": "stderr",
     "output_type": "stream",
     "text": [
      "100%|█████████████████████████████████████████████████████████████████████████████| 1875/1875 [00:18<00:00, 100.39it/s]\n"
     ]
    },
    {
     "name": "stdout",
     "output_type": "stream",
     "text": [
      "Epoch: 6\n",
      "['accuracy: 0.5512166619300842', 'loss: 7.233517646789551']\n",
      "['test_accuracy: 0.5461999773979187', 'test_loss: 7.310751914978027']\n"
     ]
    },
    {
     "name": "stderr",
     "output_type": "stream",
     "text": [
      "100%|█████████████████████████████████████████████████████████████████████████████| 1875/1875 [00:18<00:00, 103.82it/s]\n"
     ]
    },
    {
     "name": "stdout",
     "output_type": "stream",
     "text": [
      "Epoch: 7\n",
      "['accuracy: 0.5490999817848206', 'loss: 7.267635345458984']\n",
      "['test_accuracy: 0.5439000129699707', 'test_loss: 7.354203701019287']\n"
     ]
    },
    {
     "name": "stderr",
     "output_type": "stream",
     "text": [
      "100%|█████████████████████████████████████████████████████████████████████████████| 1875/1875 [00:18<00:00, 102.60it/s]\n"
     ]
    },
    {
     "name": "stdout",
     "output_type": "stream",
     "text": [
      "Epoch: 8\n",
      "['accuracy: 0.5511833429336548', 'loss: 7.234059810638428']\n",
      "['test_accuracy: 0.5476999878883362', 'test_loss: 7.296270370483398']\n"
     ]
    },
    {
     "name": "stderr",
     "output_type": "stream",
     "text": [
      "100%|█████████████████████████████████████████████████████████████████████████████| 1875/1875 [00:17<00:00, 105.21it/s]\n"
     ]
    },
    {
     "name": "stdout",
     "output_type": "stream",
     "text": [
      "Epoch: 9\n",
      "['accuracy: 0.5502166748046875', 'loss: 7.24963903427124']\n",
      "['test_accuracy: 0.5497000217437744', 'test_loss: 7.256041049957275']\n",
      "(32, 784) (32, 784) (32,)\n",
      "\n",
      "\n",
      "\n"
     ]
    },
    {
     "name": "stderr",
     "output_type": "stream",
     "text": [
      "100%|█████████████████████████████████████████████████████████████████████████████| 1875/1875 [00:16<00:00, 113.83it/s]\n"
     ]
    },
    {
     "name": "stdout",
     "output_type": "stream",
     "text": [
      "Epoch: 0\n",
      "['accuracy: 0.9330833554267883', 'loss: 0.1711537390947342']\n",
      "['test_accuracy: 0.9621000289916992', 'test_loss: 0.10583990812301636']\n"
     ]
    },
    {
     "name": "stderr",
     "output_type": "stream",
     "text": [
      "100%|█████████████████████████████████████████████████████████████████████████████| 1875/1875 [00:16<00:00, 115.36it/s]\n"
     ]
    },
    {
     "name": "stdout",
     "output_type": "stream",
     "text": [
      "Epoch: 1\n",
      "['accuracy: 0.9689666628837585', 'loss: 0.08643074333667755']\n",
      "['test_accuracy: 0.9729999899864197', 'test_loss: 0.07259371131658554']\n"
     ]
    },
    {
     "name": "stderr",
     "output_type": "stream",
     "text": [
      "100%|█████████████████████████████████████████████████████████████████████████████| 1875/1875 [00:17<00:00, 107.78it/s]\n"
     ]
    },
    {
     "name": "stdout",
     "output_type": "stream",
     "text": [
      "Epoch: 2\n",
      "['accuracy: 0.9773833155632019', 'loss: 0.06312954425811768']\n",
      "['test_accuracy: 0.9736999869346619', 'test_loss: 0.07058718800544739']\n"
     ]
    },
    {
     "name": "stderr",
     "output_type": "stream",
     "text": [
      "100%|█████████████████████████████████████████████████████████████████████████████| 1875/1875 [00:16<00:00, 113.97it/s]\n"
     ]
    },
    {
     "name": "stdout",
     "output_type": "stream",
     "text": [
      "Epoch: 3\n",
      "['accuracy: 0.9804333448410034', 'loss: 0.05541922152042389']\n",
      "['test_accuracy: 0.9825000166893005', 'test_loss: 0.05327495187520981']\n"
     ]
    },
    {
     "name": "stderr",
     "output_type": "stream",
     "text": [
      "100%|█████████████████████████████████████████████████████████████████████████████| 1875/1875 [00:16<00:00, 112.12it/s]\n"
     ]
    },
    {
     "name": "stdout",
     "output_type": "stream",
     "text": [
      "Epoch: 4\n",
      "['accuracy: 0.9837833046913147', 'loss: 0.04497397318482399']\n",
      "['test_accuracy: 0.9836999773979187', 'test_loss: 0.05066705867648125']\n"
     ]
    },
    {
     "name": "stderr",
     "output_type": "stream",
     "text": [
      "100%|██████████████████████████████████████████████████████████████████████████████| 1875/1875 [00:19<00:00, 97.80it/s]\n"
     ]
    },
    {
     "name": "stdout",
     "output_type": "stream",
     "text": [
      "Epoch: 5\n",
      "['accuracy: 0.9851333498954773', 'loss: 0.04359132796525955']\n",
      "['test_accuracy: 0.9842000007629395', 'test_loss: 0.048253558576107025']\n"
     ]
    },
    {
     "name": "stderr",
     "output_type": "stream",
     "text": [
      "100%|█████████████████████████████████████████████████████████████████████████████| 1875/1875 [00:18<00:00, 101.17it/s]\n"
     ]
    },
    {
     "name": "stdout",
     "output_type": "stream",
     "text": [
      "Epoch: 6\n",
      "['accuracy: 0.9861999750137329', 'loss: 0.04099387302994728']\n",
      "['test_accuracy: 0.9836999773979187', 'test_loss: 0.048742517828941345']\n"
     ]
    },
    {
     "name": "stderr",
     "output_type": "stream",
     "text": [
      "100%|█████████████████████████████████████████████████████████████████████████████| 1875/1875 [00:16<00:00, 113.46it/s]\n"
     ]
    },
    {
     "name": "stdout",
     "output_type": "stream",
     "text": [
      "Epoch: 7\n",
      "['accuracy: 0.9866999983787537', 'loss: 0.03751760348677635']\n",
      "['test_accuracy: 0.9861999750137329', 'test_loss: 0.04232737421989441']\n"
     ]
    },
    {
     "name": "stderr",
     "output_type": "stream",
     "text": [
      "100%|█████████████████████████████████████████████████████████████████████████████| 1875/1875 [00:16<00:00, 112.53it/s]\n"
     ]
    },
    {
     "name": "stdout",
     "output_type": "stream",
     "text": [
      "Epoch: 8\n",
      "['accuracy: 0.9879166483879089', 'loss: 0.03367907181382179']\n",
      "['test_accuracy: 0.9854999780654907', 'test_loss: 0.04603441059589386']\n"
     ]
    },
    {
     "name": "stderr",
     "output_type": "stream",
     "text": [
      "100%|█████████████████████████████████████████████████████████████████████████████| 1875/1875 [00:17<00:00, 106.15it/s]\n"
     ]
    },
    {
     "name": "stdout",
     "output_type": "stream",
     "text": [
      "Epoch: 9\n",
      "['accuracy: 0.9891166687011719', 'loss: 0.0313931368291378']\n",
      "['test_accuracy: 0.987500011920929', 'test_loss: 0.039195358753204346']\n",
      "(32, 784) (32, 784) (32, 19)\n",
      "\n",
      "\n",
      "\n"
     ]
    },
    {
     "name": "stderr",
     "output_type": "stream",
     "text": [
      "100%|██████████████████████████████████████████████████████████████████████████████| 1875/1875 [00:18<00:00, 99.53it/s]\n"
     ]
    },
    {
     "name": "stdout",
     "output_type": "stream",
     "text": [
      "Epoch: 0\n",
      "['accuracy: 0.5501000285148621', 'loss: 0.5825722813606262']\n",
      "['test_accuracy: 0.5989000201225281', 'test_loss: 0.24784448742866516']\n"
     ]
    },
    {
     "name": "stderr",
     "output_type": "stream",
     "text": [
      "100%|█████████████████████████████████████████████████████████████████████████████| 1875/1875 [00:17<00:00, 105.78it/s]\n"
     ]
    },
    {
     "name": "stdout",
     "output_type": "stream",
     "text": [
      "Epoch: 1\n",
      "['accuracy: 0.673383355140686', 'loss: 0.2108975201845169']\n",
      "['test_accuracy: 0.6363000273704529', 'test_loss: 0.17516496777534485']\n"
     ]
    },
    {
     "name": "stderr",
     "output_type": "stream",
     "text": [
      "100%|██████████████████████████████████████████████████████████████████████████████| 1875/1875 [00:20<00:00, 92.14it/s]\n"
     ]
    },
    {
     "name": "stdout",
     "output_type": "stream",
     "text": [
      "Epoch: 2\n",
      "['accuracy: 0.683733344078064', 'loss: 0.15745672583580017']\n",
      "['test_accuracy: 0.6977999806404114', 'test_loss: 0.1371011734008789']\n"
     ]
    },
    {
     "name": "stderr",
     "output_type": "stream",
     "text": [
      "100%|█████████████████████████████████████████████████████████████████████████████| 1875/1875 [00:18<00:00, 103.30it/s]\n"
     ]
    },
    {
     "name": "stdout",
     "output_type": "stream",
     "text": [
      "Epoch: 3\n",
      "['accuracy: 0.6783166527748108', 'loss: 0.13102123141288757']\n",
      "['test_accuracy: 0.6406000256538391', 'test_loss: 0.15283028781414032']\n"
     ]
    },
    {
     "name": "stderr",
     "output_type": "stream",
     "text": [
      "100%|██████████████████████████████████████████████████████████████████████████████| 1875/1875 [00:21<00:00, 88.70it/s]\n"
     ]
    },
    {
     "name": "stdout",
     "output_type": "stream",
     "text": [
      "Epoch: 4\n",
      "['accuracy: 0.6814833283424377', 'loss: 0.11169968545436859']\n",
      "['test_accuracy: 0.6466000080108643', 'test_loss: 0.10558338463306427']\n"
     ]
    },
    {
     "name": "stderr",
     "output_type": "stream",
     "text": [
      "100%|██████████████████████████████████████████████████████████████████████████████| 1875/1875 [00:19<00:00, 98.68it/s]\n"
     ]
    },
    {
     "name": "stdout",
     "output_type": "stream",
     "text": [
      "Epoch: 5\n",
      "['accuracy: 0.6875', 'loss: 0.09817928820848465']\n",
      "['test_accuracy: 0.6708999872207642', 'test_loss: 0.14764678478240967']\n"
     ]
    },
    {
     "name": "stderr",
     "output_type": "stream",
     "text": [
      "100%|██████████████████████████████████████████████████████████████████████████████| 1875/1875 [00:18<00:00, 99.41it/s]\n"
     ]
    },
    {
     "name": "stdout",
     "output_type": "stream",
     "text": [
      "Epoch: 6\n",
      "['accuracy: 0.6855000257492065', 'loss: 0.09073080867528915']\n",
      "['test_accuracy: 0.6841999888420105', 'test_loss: 0.09866274148225784']\n"
     ]
    },
    {
     "name": "stderr",
     "output_type": "stream",
     "text": [
      "100%|██████████████████████████████████████████████████████████████████████████████| 1875/1875 [00:19<00:00, 94.57it/s]\n"
     ]
    },
    {
     "name": "stdout",
     "output_type": "stream",
     "text": [
      "Epoch: 7\n",
      "['accuracy: 0.6819999814033508', 'loss: 0.08466527611017227']\n",
      "['test_accuracy: 0.6657000184059143', 'test_loss: 0.09648886322975159']\n"
     ]
    },
    {
     "name": "stderr",
     "output_type": "stream",
     "text": [
      "100%|█████████████████████████████████████████████████████████████████████████████| 1875/1875 [00:18<00:00, 101.51it/s]\n"
     ]
    },
    {
     "name": "stdout",
     "output_type": "stream",
     "text": [
      "Epoch: 8\n",
      "['accuracy: 0.6994166374206543', 'loss: 0.0754498690366745']\n",
      "['test_accuracy: 0.6973000168800354', 'test_loss: 0.09504928439855576']\n"
     ]
    },
    {
     "name": "stderr",
     "output_type": "stream",
     "text": [
      "100%|██████████████████████████████████████████████████████████████████████████████| 1875/1875 [00:19<00:00, 97.69it/s]\n"
     ]
    },
    {
     "name": "stdout",
     "output_type": "stream",
     "text": [
      "Epoch: 9\n",
      "['accuracy: 0.6896499991416931', 'loss: 0.06924464553594589']\n",
      "['test_accuracy: 0.6920999884605408', 'test_loss: 0.0870642140507698']\n",
      "(32, 784) (32, 784) (32,)\n",
      "\n",
      "\n",
      "\n"
     ]
    },
    {
     "name": "stderr",
     "output_type": "stream",
     "text": [
      "100%|█████████████████████████████████████████████████████████████████████████████| 1875/1875 [00:18<00:00, 102.20it/s]\n"
     ]
    },
    {
     "name": "stdout",
     "output_type": "stream",
     "text": [
      "Epoch: 0\n",
      "['accuracy: 0.9004499912261963', 'loss: 0.24527877569198608']\n",
      "['test_accuracy: 0.928600013256073', 'test_loss: 0.1796085089445114']\n"
     ]
    },
    {
     "name": "stderr",
     "output_type": "stream",
     "text": [
      "100%|█████████████████████████████████████████████████████████████████████████████| 1875/1875 [00:17<00:00, 106.12it/s]\n"
     ]
    },
    {
     "name": "stdout",
     "output_type": "stream",
     "text": [
      "Epoch: 1\n",
      "['accuracy: 0.9330833554267883', 'loss: 0.1685965657234192']\n",
      "['test_accuracy: 0.946399986743927', 'test_loss: 0.14036235213279724']\n"
     ]
    },
    {
     "name": "stderr",
     "output_type": "stream",
     "text": [
      "100%|█████████████████████████████████████████████████████████████████████████████| 1875/1875 [00:17<00:00, 106.00it/s]\n"
     ]
    },
    {
     "name": "stdout",
     "output_type": "stream",
     "text": [
      "Epoch: 2\n",
      "['accuracy: 0.9495499730110168', 'loss: 0.13129392266273499']\n",
      "['test_accuracy: 0.9598000049591064', 'test_loss: 0.10591281205415726']\n"
     ]
    },
    {
     "name": "stderr",
     "output_type": "stream",
     "text": [
      "100%|██████████████████████████████████████████████████████████████████████████████| 1875/1875 [00:19<00:00, 96.24it/s]\n"
     ]
    },
    {
     "name": "stdout",
     "output_type": "stream",
     "text": [
      "Epoch: 3\n",
      "['accuracy: 0.9612500071525574', 'loss: 0.10627786815166473']\n",
      "['test_accuracy: 0.9563000202178955', 'test_loss: 0.12077032774686813']\n"
     ]
    },
    {
     "name": "stderr",
     "output_type": "stream",
     "text": [
      "100%|█████████████████████████████████████████████████████████████████████████████| 1875/1875 [00:17<00:00, 105.59it/s]\n"
     ]
    },
    {
     "name": "stdout",
     "output_type": "stream",
     "text": [
      "Epoch: 4\n",
      "['accuracy: 0.9674999713897705', 'loss: 0.09156633168458939']\n",
      "['test_accuracy: 0.9717000126838684', 'test_loss: 0.08356288075447083']\n"
     ]
    },
    {
     "name": "stderr",
     "output_type": "stream",
     "text": [
      "100%|█████████████████████████████████████████████████████████████████████████████| 1875/1875 [00:16<00:00, 114.66it/s]\n"
     ]
    },
    {
     "name": "stdout",
     "output_type": "stream",
     "text": [
      "Epoch: 5\n",
      "['accuracy: 0.9713666439056396', 'loss: 0.08112399280071259']\n",
      "['test_accuracy: 0.9731000065803528', 'test_loss: 0.07524095475673676']\n"
     ]
    },
    {
     "name": "stderr",
     "output_type": "stream",
     "text": [
      "100%|█████████████████████████████████████████████████████████████████████████████| 1875/1875 [00:18<00:00, 100.90it/s]\n"
     ]
    },
    {
     "name": "stdout",
     "output_type": "stream",
     "text": [
      "Epoch: 6\n",
      "['accuracy: 0.9744333624839783', 'loss: 0.07334161549806595']\n",
      "['test_accuracy: 0.9742000102996826', 'test_loss: 0.07397184520959854']\n"
     ]
    },
    {
     "name": "stderr",
     "output_type": "stream",
     "text": [
      "100%|█████████████████████████████████████████████████████████████████████████████| 1875/1875 [00:17<00:00, 106.31it/s]\n"
     ]
    },
    {
     "name": "stdout",
     "output_type": "stream",
     "text": [
      "Epoch: 7\n",
      "['accuracy: 0.9765666723251343', 'loss: 0.06729013472795486']\n",
      "['test_accuracy: 0.9746000170707703', 'test_loss: 0.06940219551324844']\n"
     ]
    },
    {
     "name": "stderr",
     "output_type": "stream",
     "text": [
      "100%|█████████████████████████████████████████████████████████████████████████████| 1875/1875 [00:16<00:00, 111.69it/s]\n"
     ]
    },
    {
     "name": "stdout",
     "output_type": "stream",
     "text": [
      "Epoch: 8\n",
      "['accuracy: 0.9776999950408936', 'loss: 0.06453868001699448']\n",
      "['test_accuracy: 0.9781000018119812', 'test_loss: 0.06556100398302078']\n"
     ]
    },
    {
     "name": "stderr",
     "output_type": "stream",
     "text": [
      "100%|█████████████████████████████████████████████████████████████████████████████| 1875/1875 [00:17<00:00, 109.15it/s]\n"
     ]
    },
    {
     "name": "stdout",
     "output_type": "stream",
     "text": [
      "Epoch: 9\n",
      "['accuracy: 0.9805166721343994', 'loss: 0.05725764483213425']\n",
      "['test_accuracy: 0.973800003528595', 'test_loss: 0.0745934545993805']\n",
      "(32, 784) (32, 784) (32, 19)\n",
      "\n",
      "\n",
      "\n"
     ]
    },
    {
     "name": "stderr",
     "output_type": "stream",
     "text": [
      "100%|██████████████████████████████████████████████████████████████████████████████| 1875/1875 [00:22<00:00, 81.71it/s]\n"
     ]
    },
    {
     "name": "stdout",
     "output_type": "stream",
     "text": [
      "Epoch: 0\n",
      "['accuracy: 0.4363666772842407', 'loss: 1.0760776996612549']\n",
      "['test_accuracy: 0.4731999933719635', 'test_loss: 0.9283393621444702']\n"
     ]
    },
    {
     "name": "stderr",
     "output_type": "stream",
     "text": [
      "100%|██████████████████████████████████████████████████████████████████████████████| 1875/1875 [00:23<00:00, 79.39it/s]\n"
     ]
    },
    {
     "name": "stdout",
     "output_type": "stream",
     "text": [
      "Epoch: 1\n",
      "['accuracy: 0.5156999826431274', 'loss: 0.7377575635910034']\n",
      "['test_accuracy: 0.5857999920845032', 'test_loss: 0.5397356152534485']\n"
     ]
    },
    {
     "name": "stderr",
     "output_type": "stream",
     "text": [
      "100%|██████████████████████████████████████████████████████████████████████████████| 1875/1875 [00:22<00:00, 83.50it/s]\n"
     ]
    },
    {
     "name": "stdout",
     "output_type": "stream",
     "text": [
      "Epoch: 2\n",
      "['accuracy: 0.5755666494369507', 'loss: 0.4423416256904602']\n",
      "['test_accuracy: 0.5895000100135803', 'test_loss: 0.3638933598995209']\n"
     ]
    },
    {
     "name": "stderr",
     "output_type": "stream",
     "text": [
      "100%|██████████████████████████████████████████████████████████████████████████████| 1875/1875 [00:21<00:00, 86.62it/s]\n"
     ]
    },
    {
     "name": "stdout",
     "output_type": "stream",
     "text": [
      "Epoch: 3\n",
      "['accuracy: 0.6159499883651733', 'loss: 0.33663642406463623']\n",
      "['test_accuracy: 0.6380000114440918', 'test_loss: 0.3017280399799347']\n"
     ]
    },
    {
     "name": "stderr",
     "output_type": "stream",
     "text": [
      "100%|██████████████████████████████████████████████████████████████████████████████| 1875/1875 [00:20<00:00, 90.51it/s]\n"
     ]
    },
    {
     "name": "stdout",
     "output_type": "stream",
     "text": [
      "Epoch: 4\n",
      "['accuracy: 0.6360999941825867', 'loss: 0.2795460522174835']\n",
      "['test_accuracy: 0.656000018119812', 'test_loss: 0.25545284152030945']\n"
     ]
    },
    {
     "name": "stderr",
     "output_type": "stream",
     "text": [
      "100%|██████████████████████████████████████████████████████████████████████████████| 1875/1875 [00:19<00:00, 95.33it/s]\n"
     ]
    },
    {
     "name": "stdout",
     "output_type": "stream",
     "text": [
      "Epoch: 5\n",
      "['accuracy: 0.652733325958252', 'loss: 0.23712243139743805']\n",
      "['test_accuracy: 0.664900004863739', 'test_loss: 0.2237178087234497']\n"
     ]
    },
    {
     "name": "stderr",
     "output_type": "stream",
     "text": [
      "100%|██████████████████████████████████████████████████████████████████████████████| 1875/1875 [00:23<00:00, 78.37it/s]\n"
     ]
    },
    {
     "name": "stdout",
     "output_type": "stream",
     "text": [
      "Epoch: 6\n",
      "['accuracy: 0.6614000201225281', 'loss: 0.2150939255952835']\n",
      "['test_accuracy: 0.6304000020027161', 'test_loss: 0.20436984300613403']\n"
     ]
    },
    {
     "name": "stderr",
     "output_type": "stream",
     "text": [
      "100%|██████████████████████████████████████████████████████████████████████████████| 1875/1875 [00:23<00:00, 80.50it/s]\n"
     ]
    },
    {
     "name": "stdout",
     "output_type": "stream",
     "text": [
      "Epoch: 7\n",
      "['accuracy: 0.6689333319664001', 'loss: 0.1929323822259903']\n",
      "['test_accuracy: 0.6872000098228455', 'test_loss: 0.17247003316879272']\n"
     ]
    },
    {
     "name": "stderr",
     "output_type": "stream",
     "text": [
      "100%|██████████████████████████████████████████████████████████████████████████████| 1875/1875 [00:21<00:00, 87.39it/s]\n"
     ]
    },
    {
     "name": "stdout",
     "output_type": "stream",
     "text": [
      "Epoch: 8\n",
      "['accuracy: 0.6758833527565002', 'loss: 0.17131829261779785']\n",
      "['test_accuracy: 0.6593000292778015', 'test_loss: 0.16055749356746674']\n"
     ]
    },
    {
     "name": "stderr",
     "output_type": "stream",
     "text": [
      "100%|██████████████████████████████████████████████████████████████████████████████| 1875/1875 [00:19<00:00, 94.15it/s]\n"
     ]
    },
    {
     "name": "stdout",
     "output_type": "stream",
     "text": [
      "Epoch: 9\n",
      "['accuracy: 0.6762166619300842', 'loss: 0.15728099644184113']\n",
      "['test_accuracy: 0.6807000041007996', 'test_loss: 0.15656085312366486']\n",
      "(32, 784) (32, 784) (32,)\n",
      "\n",
      "\n",
      "\n"
     ]
    },
    {
     "name": "stderr",
     "output_type": "stream",
     "text": [
      "100%|██████████████████████████████████████████████████████████████████████████████| 1875/1875 [00:27<00:00, 68.70it/s]\n"
     ]
    },
    {
     "name": "stdout",
     "output_type": "stream",
     "text": [
      "Epoch: 0\n",
      "['accuracy: 0.8413333296775818', 'loss: 2.4146828651428223']\n",
      "['test_accuracy: 0.8416000008583069', 'test_loss: 2.4146647453308105']\n"
     ]
    },
    {
     "name": "stderr",
     "output_type": "stream",
     "text": [
      "100%|██████████████████████████████████████████████████████████████████████████████| 1875/1875 [00:19<00:00, 94.55it/s]\n"
     ]
    },
    {
     "name": "stdout",
     "output_type": "stream",
     "text": [
      "Epoch: 1\n",
      "['accuracy: 0.8427666425704956', 'loss: 2.397709369659424']\n",
      "['test_accuracy: 0.8367000222206116', 'test_loss: 2.487743377685547']\n"
     ]
    },
    {
     "name": "stderr",
     "output_type": "stream",
     "text": [
      "100%|██████████████████████████████████████████████████████████████████████████████| 1875/1875 [00:20<00:00, 92.39it/s]\n"
     ]
    },
    {
     "name": "stdout",
     "output_type": "stream",
     "text": [
      "Epoch: 2\n",
      "['accuracy: 0.8404333591461182', 'loss: 2.433290719985962']\n",
      "['test_accuracy: 0.8421000242233276', 'test_loss: 2.4085750579833984']\n"
     ]
    },
    {
     "name": "stderr",
     "output_type": "stream",
     "text": [
      "100%|██████████████████████████████████████████████████████████████████████████████| 1875/1875 [00:21<00:00, 86.89it/s]\n"
     ]
    },
    {
     "name": "stdout",
     "output_type": "stream",
     "text": [
      "Epoch: 3\n",
      "['accuracy: 0.8394333124160767', 'loss: 2.4485397338867188']\n",
      "['test_accuracy: 0.8364999890327454', 'test_loss: 2.4923112392425537']\n"
     ]
    },
    {
     "name": "stderr",
     "output_type": "stream",
     "text": [
      "100%|██████████████████████████████████████████████████████████████████████████████| 1875/1875 [00:19<00:00, 94.23it/s]\n"
     ]
    },
    {
     "name": "stdout",
     "output_type": "stream",
     "text": [
      "Epoch: 4\n",
      "['accuracy: 0.840399980545044', 'loss: 2.433800220489502']\n",
      "['test_accuracy: 0.8416000008583069', 'test_loss: 2.41923189163208']\n"
     ]
    },
    {
     "name": "stderr",
     "output_type": "stream",
     "text": [
      "100%|██████████████████████████████████████████████████████████████████████████████| 1875/1875 [00:20<00:00, 92.89it/s]\n"
     ]
    },
    {
     "name": "stdout",
     "output_type": "stream",
     "text": [
      "Epoch: 5\n",
      "['accuracy: 0.8430166840553284', 'loss: 2.393895149230957']\n",
      "['test_accuracy: 0.8382999897003174', 'test_loss: 2.4618616104125977']\n"
     ]
    },
    {
     "name": "stderr",
     "output_type": "stream",
     "text": [
      "100%|██████████████████████████████████████████████████████████████████████████████| 1875/1875 [00:21<00:00, 87.68it/s]\n"
     ]
    },
    {
     "name": "stdout",
     "output_type": "stream",
     "text": [
      "Epoch: 6\n",
      "['accuracy: 0.8392333388328552', 'loss: 2.4515907764434814']\n",
      "['test_accuracy: 0.8324999809265137', 'test_loss: 2.5532116889953613']\n"
     ]
    },
    {
     "name": "stderr",
     "output_type": "stream",
     "text": [
      "100%|██████████████████████████████████████████████████████████████████████████████| 1875/1875 [00:21<00:00, 87.26it/s]\n"
     ]
    },
    {
     "name": "stdout",
     "output_type": "stream",
     "text": [
      "Epoch: 7\n",
      "['accuracy: 0.8430166840553284', 'loss: 2.3938965797424316']\n",
      "['test_accuracy: 0.8416000008583069', 'test_loss: 2.417710542678833']\n"
     ]
    },
    {
     "name": "stderr",
     "output_type": "stream",
     "text": [
      "100%|██████████████████████████████████████████████████████████████████████████████| 1875/1875 [00:20<00:00, 91.64it/s]\n"
     ]
    },
    {
     "name": "stdout",
     "output_type": "stream",
     "text": [
      "Epoch: 8\n",
      "['accuracy: 0.8397166728973389', 'loss: 2.4442203044891357']\n",
      "['test_accuracy: 0.8389999866485596', 'test_loss: 2.454249382019043']\n"
     ]
    },
    {
     "name": "stderr",
     "output_type": "stream",
     "text": [
      "100%|██████████████████████████████████████████████████████████████████████████████| 1875/1875 [00:20<00:00, 91.06it/s]\n"
     ]
    },
    {
     "name": "stdout",
     "output_type": "stream",
     "text": [
      "Epoch: 9\n",
      "['accuracy: 0.8421000242233276', 'loss: 2.4078762531280518']\n",
      "['test_accuracy: 0.8407999873161316', 'test_loss: 2.4237985610961914']\n",
      "(32, 784) (32, 784) (32, 19)\n",
      "\n",
      "\n",
      "\n"
     ]
    },
    {
     "name": "stderr",
     "output_type": "stream",
     "text": [
      "100%|██████████████████████████████████████████████████████████████████████████████| 1875/1875 [00:25<00:00, 74.06it/s]\n"
     ]
    },
    {
     "name": "stdout",
     "output_type": "stream",
     "text": [
      "Epoch: 0\n",
      "['accuracy: 0.0687333345413208', 'loss: 7.745543956756592']\n",
      "['test_accuracy: 0.06520000100135803', 'test_loss: 7.830536842346191']\n"
     ]
    },
    {
     "name": "stderr",
     "output_type": "stream",
     "text": [
      "100%|██████████████████████████████████████████████████████████████████████████████| 1875/1875 [00:22<00:00, 85.05it/s]\n"
     ]
    },
    {
     "name": "stdout",
     "output_type": "stream",
     "text": [
      "Epoch: 1\n",
      "['accuracy: 0.06963333487510681', 'loss: 7.742843151092529']\n",
      "['test_accuracy: 0.07000000029802322', 'test_loss: 7.6953606605529785']\n"
     ]
    },
    {
     "name": "stderr",
     "output_type": "stream",
     "text": [
      "100%|██████████████████████████████████████████████████████████████████████████████| 1875/1875 [00:21<00:00, 86.95it/s]\n"
     ]
    },
    {
     "name": "stdout",
     "output_type": "stream",
     "text": [
      "Epoch: 2\n",
      "['accuracy: 0.07053333520889282', 'loss: 7.783666133880615']\n",
      "['test_accuracy: 0.0674000009894371', 'test_loss: 7.7854766845703125']\n"
     ]
    },
    {
     "name": "stderr",
     "output_type": "stream",
     "text": [
      "100%|██████████████████████████████████████████████████████████████████████████████| 1875/1875 [00:21<00:00, 87.49it/s]\n"
     ]
    },
    {
     "name": "stdout",
     "output_type": "stream",
     "text": [
      "Epoch: 3\n",
      "['accuracy: 0.06975000351667404', 'loss: 7.754667282104492']\n",
      "['test_accuracy: 0.0681999996304512', 'test_loss: 7.880422592163086']\n"
     ]
    },
    {
     "name": "stderr",
     "output_type": "stream",
     "text": [
      "100%|██████████████████████████████████████████████████████████████████████████████| 1875/1875 [00:21<00:00, 86.88it/s]\n"
     ]
    },
    {
     "name": "stdout",
     "output_type": "stream",
     "text": [
      "Epoch: 4\n",
      "['accuracy: 0.0681999996304512', 'loss: 7.779109477996826']\n",
      "['test_accuracy: 0.06989999860525131', 'test_loss: 7.8096184730529785']\n"
     ]
    },
    {
     "name": "stderr",
     "output_type": "stream",
     "text": [
      "100%|██████████████████████████████████████████████████████████████████████████████| 1875/1875 [00:22<00:00, 83.59it/s]\n"
     ]
    },
    {
     "name": "stdout",
     "output_type": "stream",
     "text": [
      "Epoch: 5\n",
      "['accuracy: 0.06724999845027924', 'loss: 7.7785725593566895']\n",
      "['test_accuracy: 0.06629999727010727', 'test_loss: 7.803175926208496']\n"
     ]
    },
    {
     "name": "stderr",
     "output_type": "stream",
     "text": [
      "100%|██████████████████████████████████████████████████████████████████████████████| 1875/1875 [00:22<00:00, 85.20it/s]\n"
     ]
    },
    {
     "name": "stdout",
     "output_type": "stream",
     "text": [
      "Epoch: 6\n",
      "['accuracy: 0.06814999878406525', 'loss: 7.767555236816406']\n",
      "['test_accuracy: 0.06599999964237213', 'test_loss: 7.812832832336426']\n"
     ]
    },
    {
     "name": "stderr",
     "output_type": "stream",
     "text": [
      "100%|██████████████████████████████████████████████████████████████████████████████| 1875/1875 [00:23<00:00, 78.21it/s]\n"
     ]
    },
    {
     "name": "stdout",
     "output_type": "stream",
     "text": [
      "Epoch: 7\n",
      "['accuracy: 0.06726666539907455', 'loss: 7.77829122543335']\n",
      "['test_accuracy: 0.06729999929666519', 'test_loss: 7.746856689453125']\n"
     ]
    },
    {
     "name": "stderr",
     "output_type": "stream",
     "text": [
      "100%|██████████████████████████████████████████████████████████████████████████████| 1875/1875 [00:23<00:00, 79.54it/s]\n"
     ]
    },
    {
     "name": "stdout",
     "output_type": "stream",
     "text": [
      "Epoch: 8\n",
      "['accuracy: 0.06896666437387466', 'loss: 7.762460231781006']\n",
      "['test_accuracy: 0.06499999761581421', 'test_loss: 7.796741485595703']\n"
     ]
    },
    {
     "name": "stderr",
     "output_type": "stream",
     "text": [
      "100%|██████████████████████████████████████████████████████████████████████████████| 1875/1875 [00:22<00:00, 85.22it/s]\n"
     ]
    },
    {
     "name": "stdout",
     "output_type": "stream",
     "text": [
      "Epoch: 9\n",
      "['accuracy: 0.06893333047628403', 'loss: 7.736397743225098']\n",
      "['test_accuracy: 0.0689999982714653', 'test_loss: 7.742030620574951']\n",
      "(32, 784) (32, 784) (32,)\n",
      "\n",
      "\n",
      "\n"
     ]
    },
    {
     "name": "stderr",
     "output_type": "stream",
     "text": [
      "100%|█████████████████████████████████████████████████████████████████████████████| 1875/1875 [00:18<00:00, 103.20it/s]\n"
     ]
    },
    {
     "name": "stdout",
     "output_type": "stream",
     "text": [
      "Epoch: 0\n",
      "['accuracy: 0.9174333214759827', 'loss: 0.20474468171596527']\n",
      "['test_accuracy: 0.9171000123023987', 'test_loss: 0.19058795273303986']\n"
     ]
    },
    {
     "name": "stderr",
     "output_type": "stream",
     "text": [
      "100%|█████████████████████████████████████████████████████████████████████████████| 1875/1875 [00:17<00:00, 107.02it/s]\n"
     ]
    },
    {
     "name": "stdout",
     "output_type": "stream",
     "text": [
      "Epoch: 1\n",
      "['accuracy: 0.9542499780654907', 'loss: 0.12069132179021835']\n",
      "['test_accuracy: 0.9648000001907349', 'test_loss: 0.09921427816152573']\n"
     ]
    },
    {
     "name": "stderr",
     "output_type": "stream",
     "text": [
      "100%|█████████████████████████████████████████████████████████████████████████████| 1875/1875 [00:17<00:00, 109.67it/s]\n"
     ]
    },
    {
     "name": "stdout",
     "output_type": "stream",
     "text": [
      "Epoch: 2\n",
      "['accuracy: 0.9676833152770996', 'loss: 0.09203530848026276']\n",
      "['test_accuracy: 0.9715999960899353', 'test_loss: 0.08163541555404663']\n"
     ]
    },
    {
     "name": "stderr",
     "output_type": "stream",
     "text": [
      "100%|█████████████████████████████████████████████████████████████████████████████| 1875/1875 [00:16<00:00, 114.25it/s]\n"
     ]
    },
    {
     "name": "stdout",
     "output_type": "stream",
     "text": [
      "Epoch: 3\n",
      "['accuracy: 0.9710500240325928', 'loss: 0.07980525493621826']\n",
      "['test_accuracy: 0.9736999869346619', 'test_loss: 0.07457786053419113']\n"
     ]
    },
    {
     "name": "stderr",
     "output_type": "stream",
     "text": [
      "100%|█████████████████████████████████████████████████████████████████████████████| 1875/1875 [00:17<00:00, 110.15it/s]\n"
     ]
    },
    {
     "name": "stdout",
     "output_type": "stream",
     "text": [
      "Epoch: 4\n",
      "['accuracy: 0.9765499830245972', 'loss: 0.06827632337808609']\n",
      "['test_accuracy: 0.9728000164031982', 'test_loss: 0.07394083589315414']\n"
     ]
    },
    {
     "name": "stderr",
     "output_type": "stream",
     "text": [
      "100%|█████████████████████████████████████████████████████████████████████████████| 1875/1875 [00:17<00:00, 104.49it/s]\n"
     ]
    },
    {
     "name": "stdout",
     "output_type": "stream",
     "text": [
      "Epoch: 5\n",
      "['accuracy: 0.9789000153541565', 'loss: 0.06071745976805687']\n",
      "['test_accuracy: 0.9793000221252441', 'test_loss: 0.06427133083343506']\n"
     ]
    },
    {
     "name": "stderr",
     "output_type": "stream",
     "text": [
      "100%|█████████████████████████████████████████████████████████████████████████████| 1875/1875 [00:17<00:00, 105.62it/s]\n"
     ]
    },
    {
     "name": "stdout",
     "output_type": "stream",
     "text": [
      "Epoch: 6\n",
      "['accuracy: 0.98089998960495', 'loss: 0.05591895803809166']\n",
      "['test_accuracy: 0.9812999963760376', 'test_loss: 0.05390532687306404']\n"
     ]
    },
    {
     "name": "stderr",
     "output_type": "stream",
     "text": [
      "100%|█████████████████████████████████████████████████████████████████████████████| 1875/1875 [00:17<00:00, 104.50it/s]\n"
     ]
    },
    {
     "name": "stdout",
     "output_type": "stream",
     "text": [
      "Epoch: 7\n",
      "['accuracy: 0.9809499979019165', 'loss: 0.055124107748270035']\n",
      "['test_accuracy: 0.9807999730110168', 'test_loss: 0.058696068823337555']\n"
     ]
    },
    {
     "name": "stderr",
     "output_type": "stream",
     "text": [
      "100%|█████████████████████████████████████████████████████████████████████████████| 1875/1875 [00:18<00:00, 103.33it/s]\n"
     ]
    },
    {
     "name": "stdout",
     "output_type": "stream",
     "text": [
      "Epoch: 8\n",
      "['accuracy: 0.9832333326339722', 'loss: 0.05065905302762985']\n",
      "['test_accuracy: 0.983299970626831', 'test_loss: 0.050210993736982346']\n"
     ]
    },
    {
     "name": "stderr",
     "output_type": "stream",
     "text": [
      "100%|██████████████████████████████████████████████████████████████████████████████| 1875/1875 [00:19<00:00, 98.60it/s]\n"
     ]
    },
    {
     "name": "stdout",
     "output_type": "stream",
     "text": [
      "Epoch: 9\n",
      "['accuracy: 0.9839833378791809', 'loss: 0.04591310769319534']\n",
      "['test_accuracy: 0.9815000295639038', 'test_loss: 0.054033003747463226']\n",
      "(32, 784) (32, 784) (32, 19)\n",
      "\n",
      "\n",
      "\n"
     ]
    },
    {
     "name": "stderr",
     "output_type": "stream",
     "text": [
      "100%|█████████████████████████████████████████████████████████████████████████████| 1875/1875 [00:18<00:00, 102.49it/s]\n"
     ]
    },
    {
     "name": "stdout",
     "output_type": "stream",
     "text": [
      "Epoch: 0\n",
      "['accuracy: 0.49281665682792664', 'loss: 0.8581560254096985']\n",
      "['test_accuracy: 0.574999988079071', 'test_loss: 0.4854243993759155']\n"
     ]
    },
    {
     "name": "stderr",
     "output_type": "stream",
     "text": [
      "100%|█████████████████████████████████████████████████████████████████████████████| 1875/1875 [00:18<00:00, 100.70it/s]\n"
     ]
    },
    {
     "name": "stdout",
     "output_type": "stream",
     "text": [
      "Epoch: 1\n",
      "['accuracy: 0.6211666464805603', 'loss: 0.3758014440536499']\n",
      "['test_accuracy: 0.6284000277519226', 'test_loss: 0.2930162847042084']\n"
     ]
    },
    {
     "name": "stderr",
     "output_type": "stream",
     "text": [
      "100%|██████████████████████████████████████████████████████████████████████████████| 1875/1875 [00:22<00:00, 84.32it/s]\n"
     ]
    },
    {
     "name": "stdout",
     "output_type": "stream",
     "text": [
      "Epoch: 2\n",
      "['accuracy: 0.6541666388511658', 'loss: 0.26223254203796387']\n",
      "['test_accuracy: 0.6420000195503235', 'test_loss: 0.23537114262580872']\n"
     ]
    },
    {
     "name": "stderr",
     "output_type": "stream",
     "text": [
      "100%|██████████████████████████████████████████████████████████████████████████████| 1875/1875 [00:19<00:00, 98.15it/s]\n"
     ]
    },
    {
     "name": "stdout",
     "output_type": "stream",
     "text": [
      "Epoch: 3\n",
      "['accuracy: 0.6666666865348816', 'loss: 0.2154625803232193']\n",
      "['test_accuracy: 0.6632999777793884', 'test_loss: 0.19142764806747437']\n"
     ]
    },
    {
     "name": "stderr",
     "output_type": "stream",
     "text": [
      "100%|██████████████████████████████████████████████████████████████████████████████| 1875/1875 [00:22<00:00, 85.10it/s]\n"
     ]
    },
    {
     "name": "stdout",
     "output_type": "stream",
     "text": [
      "Epoch: 4\n",
      "['accuracy: 0.6678666472434998', 'loss: 0.18663738667964935']\n",
      "['test_accuracy: 0.6879000067710876', 'test_loss: 0.16768456995487213']\n"
     ]
    },
    {
     "name": "stderr",
     "output_type": "stream",
     "text": [
      "100%|██████████████████████████████████████████████████████████████████████████████| 1875/1875 [00:41<00:00, 45.23it/s]\n"
     ]
    },
    {
     "name": "stdout",
     "output_type": "stream",
     "text": [
      "Epoch: 5\n",
      "['accuracy: 0.6802833080291748', 'loss: 0.1593310385942459']\n",
      "['test_accuracy: 0.6873000264167786', 'test_loss: 0.15134327113628387']\n"
     ]
    },
    {
     "name": "stderr",
     "output_type": "stream",
     "text": [
      "100%|██████████████████████████████████████████████████████████████████████████████| 1875/1875 [00:23<00:00, 78.53it/s]\n"
     ]
    },
    {
     "name": "stdout",
     "output_type": "stream",
     "text": [
      "Epoch: 6\n",
      "['accuracy: 0.6857166886329651', 'loss: 0.1458113044500351']\n",
      "['test_accuracy: 0.6761999726295471', 'test_loss: 0.14838922023773193']\n"
     ]
    },
    {
     "name": "stderr",
     "output_type": "stream",
     "text": [
      "100%|██████████████████████████████████████████████████████████████████████████████| 1875/1875 [00:24<00:00, 77.04it/s]\n"
     ]
    },
    {
     "name": "stdout",
     "output_type": "stream",
     "text": [
      "Epoch: 7\n",
      "['accuracy: 0.6888333559036255', 'loss: 0.13331729173660278']\n",
      "['test_accuracy: 0.6859999895095825', 'test_loss: 0.13199804723262787']\n"
     ]
    },
    {
     "name": "stderr",
     "output_type": "stream",
     "text": [
      "100%|██████████████████████████████████████████████████████████████████████████████| 1875/1875 [00:24<00:00, 76.16it/s]\n"
     ]
    },
    {
     "name": "stdout",
     "output_type": "stream",
     "text": [
      "Epoch: 8\n",
      "['accuracy: 0.6964499950408936', 'loss: 0.1201329454779625']\n",
      "['test_accuracy: 0.6823999881744385', 'test_loss: 0.12201423943042755']\n"
     ]
    },
    {
     "name": "stderr",
     "output_type": "stream",
     "text": [
      "100%|██████████████████████████████████████████████████████████████████████████████| 1875/1875 [00:20<00:00, 89.98it/s]\n"
     ]
    },
    {
     "name": "stdout",
     "output_type": "stream",
     "text": [
      "Epoch: 9\n",
      "['accuracy: 0.6996666789054871', 'loss: 0.11450948566198349']\n",
      "['test_accuracy: 0.6894999742507935', 'test_loss: 0.11077160388231277']\n"
     ]
    }
   ],
   "source": [
    "def main():\n",
    "    # Instance optimizers\n",
    "    optimizer_Adam = tf.keras.optimizers.Adam(learning_rate=0.01)\n",
    "    optimizer_SGD = tf.keras.optimizers.SGD(learning_rate=0.01, momentum=0.9)\n",
    "    optimizer_SGD_no_momentum = tf.keras.optimizers.SGD(learning_rate=0.01, momentum=0.0) \n",
    "    optimizer_RMSprop = tf.keras.optimizers.RMSprop(learning_rate=0.01)\n",
    "    optimizer_AdaGrad = tf.keras.optimizers.Adagrad(learning_rate=0.01)\n",
    "    # Choose a path to save the weights\n",
    "    save_path = \"../Homework4/\"\n",
    "\n",
    "    subtask_number = np.array([1,2])\n",
    "    batch_size = 32\n",
    "\n",
    "    optimizers_list = [\n",
    "        optimizer_Adam, \n",
    "        optimizer_SGD, \n",
    "        optimizer_SGD_no_momentum,\n",
    "        optimizer_RMSprop,\n",
    "        optimizer_AdaGrad\n",
    "    ]\n",
    "\n",
    "    for optimizer in optimizers_list:\n",
    "        # Train model for the first subtask\n",
    "        train(optimizer, save_path, batch_size, subtask_number[0])\n",
    "        # Train model for the second subtask\n",
    "        train(optimizer, save_path, batch_size, subtask_number[1])\n",
    "\n",
    "    \n",
    "if __name__ == '__main__':\n",
    "    main()    \n"
   ]
  },
  {
   "cell_type": "code",
   "execution_count": null,
   "id": "4e21a930",
   "metadata": {},
   "outputs": [],
   "source": []
  },
  {
   "cell_type": "code",
   "execution_count": null,
   "id": "9abbcfbe",
   "metadata": {},
   "outputs": [],
   "source": []
  }
 ],
 "metadata": {
  "kernelspec": {
   "display_name": "Python 3",
   "language": "python",
   "name": "python3"
  },
  "language_info": {
   "codemirror_mode": {
    "name": "ipython",
    "version": 3
   },
   "file_extension": ".py",
   "mimetype": "text/x-python",
   "name": "python",
   "nbconvert_exporter": "python",
   "pygments_lexer": "ipython3",
   "version": "3.9.13"
  }
 },
 "nbformat": 4,
 "nbformat_minor": 5
}
