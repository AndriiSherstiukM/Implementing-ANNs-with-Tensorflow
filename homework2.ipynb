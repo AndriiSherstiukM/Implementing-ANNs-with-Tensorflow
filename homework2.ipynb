{
 "cells": [
  {
   "cell_type": "markdown",
   "id": "2e55f25c",
   "metadata": {},
   "source": [
    "# 2.1 Task 01 - Building your data set\n",
    "You are going to need some data to train your network on. Use NumPy1 to:\n",
    "    1. Randomly generate 100 numbers between 0 and 1 and save them to an\n",
    "    array ’x’. These are your input values.\n",
    "    2. Create an array ’t’. For each entry x[i] in x, calculate x[i]**3-x[i]**2 and save the results to t[i]. These are your targets."
   ]
  },
  {
   "cell_type": "code",
   "execution_count": null,
   "id": "047a5078",
   "metadata": {},
   "outputs": [],
   "source": [
    "import numpy as np\n",
    "import matplotlib.pyplot as plt"
   ]
  },
  {
   "cell_type": "code",
   "execution_count": 11,
   "id": "69313d29",
   "metadata": {},
   "outputs": [],
   "source": [
    "SIZE = 100\n",
    "EPOCHS = 1000\n",
    "LEARNING_RATE = 0.02\n",
    "\n",
    "# Create dataset class\n",
    "class Dataset:\n",
    "    # Initialize data \n",
    "    def __init__(self):\n",
    "        # Array with random numbers\n",
    "        self.x = np.random.rand(SIZE)\n",
    "        # Target array\n",
    "        self.t = self.x**3 - self.x**2 + 1\n",
    "        # Plot to show how the function is supposed to look like\n",
    "        plt.scatter(self.x, self.t)\n",
    "        plt.ylabel('Target')\n",
    "        plt.xlabel('Data')\n",
    "        plt.show()"
   ]
  },
  {
   "cell_type": "code",
   "execution_count": 12,
   "id": "0a1f19ef",
   "metadata": {},
   "outputs": [
    {
     "data": {
      "image/png": "[encoded data removed]",
      "text/plain": [
       "<Figure size 640x480 with 1 Axes>"
      ]
     },
     "metadata": {},
     "output_type": "display_data"
    }
   ],
   "source": [
    "# Create dataset object\n",
    "numbers_dataset = Dataset()"
   ]
  },
  {
   "cell_type": "markdown",
   "id": "80273e3c",
   "metadata": {},
   "source": [
    "# 2.2 Task 02 - Perceptrons\n",
    "Next, implement a simple layer using perceptrons. The layer should be fully\u0002connected, i.e. each unit in the layer should be connected to every unit in the preceding layer2. You are going to need several of these for your MLP, so you should write a Layer class to be able to easily instantiate as many of them as you need. Your class should have:\n",
    "    1. A constructor\n",
    "    • The constructor should accept an integer argument n_units, indi\u0002cating the number of units in the layer.\n",
    "    • The constructor should accept an integer argument ’input_units’,\n",
    "    indicating the number of units in the preceding layer.\n",
    "    • The constructor should instantiate a bias vector and a weight matrix\n",
    "    of shape (n inputs, n units). Use random values for the weights and\n",
    "    zeros for the biases.\n",
    "    • instantiate empty attributes for layer-input, layer preactivation and\n",
    "    layer activation"
   ]
  },
  {
   "cell_type": "code",
   "execution_count": null,
   "id": "bbe667b6",
   "metadata": {},
   "outputs": [],
   "source": [
    "# Create neural network layer class\n",
    "class Layer:\n",
    "\n",
    "    def __init__(self, n_units, input_units, learning_rate):\n",
    "        np.random.seed(1)\n",
    "        self.n_units = n_units\n",
    "        self.input_units = input_units\n",
    "        self.learning_rate = learning_rate\n",
    "        self.weights = 2 * np.random.rand(self.input_units, self.n_units) - 1\n",
    "        self.biases = np.zeros(n_units)\n",
    "        self.layer_input = None\n",
    "        self.layer_preactivation = None\n",
    "        self.layer_activation = None"
   ]
  },
  {
   "cell_type": "markdown",
   "id": "fcad6d6c",
   "metadata": {},
   "source": [
    "##### 2. A method called ’forward_step’, which returns each unit’s activation (i.e. output) using ReLu as the activation function."
   ]
  },
  {
   "cell_type": "code",
   "execution_count": null,
   "id": "ff9cf82f",
   "metadata": {},
   "outputs": [],
   "source": [
    "# Implement the ReLu activation function\n",
    "def relu(preactivation):\n",
    "    return np.maximum(0, preactivation)\n",
    "\n",
    "def relu_derivative(preactivation):\n",
    "    if preactivation > 0:  \n",
    "        return 1\n",
    "    elif preactivation <= 0:\n",
    "        return 0\n",
    "\n",
    "def forward_step(self,input):\n",
    "    self.layer_input = input\n",
    "    self.layer_preactivation = np.matmul(self.layer_input, self.weights) + self.biases\n",
    "    self.layer_activation = relu(self.layer_preactivation)\n",
    "\n",
    "    return self.layer_activati"
   ]
  },
  {
   "cell_type": "markdown",
   "id": "9542b8e2",
   "metadata": {},
   "source": [
    "##### 3. A method called backward_step, which updates each unit’s parameters (i.e. weights and bias)."
   ]
  },
  {
   "cell_type": "code",
   "execution_count": null,
   "id": "605e8307",
   "metadata": {},
   "outputs": [],
   "source": [
    "# Updates each unit’s parameters\n",
    "def backward_step(self, grad_activation):\n",
    "    d_relu_preactivation = np.asarray(relu_derivative(self.layer_preactivation)) \n",
    "    d_preact_gradient_activation = np.multiply(d_relu_preactivation, grad_activation)\n",
    "\n",
    "    layer_input_T = np.transpose(self.layer_input)\n",
    "\n",
    "    grad_weights = np.matmul(layer_input_T, d_preact_gradient_activation)\n",
    "    grad_bias = d_preact_gradient_activation\n",
    "    weight_T = np.transpose(self.weights)\n",
    "    grad_input = np.matmul(d_preact_gradient_activation, weight_T)\n",
    "\n",
    "    # Updating weights and biases\n",
    "    self.weights = self.weights - self.learning_rate * grad_weights\n",
    "    self.biases = self.biases - self.learning_rate * grad_bias\n",
    "\n",
    "    return grad_input"
   ]
  },
  {
   "cell_type": "markdown",
   "id": "ea877a93",
   "metadata": {},
   "source": [
    "# 2.3 Task 03 - Multi-Layer Perceptron\n",
    "Create a MLP class which combines instances of your Layer class into into a MLP. Implement two methods:\n",
    "    • A forward_step method which passes an input through the entire network\n",
    "    • A backpropagation method which updates all the weights and biases in the network given a loss value."
   ]
  },
  {
   "cell_type": "code",
   "execution_count": null,
   "id": "3e548a4b",
   "metadata": {},
   "outputs": [],
   "source": [
    "# Create multiple layer perceptron class \n",
    "class MLP:\n",
    "\n",
    "    def __init__(self, learning_rate):\n",
    "    \n",
    "        self.hidden_layer = Layer(10, 1, learning_rate)\n",
    "        self.output_layer = Layer(1, 10, learning_rate)\n",
    "\n",
    "    def forward_step(self, input):\n",
    "        hidden_layer_output = self.hidden_layer.forward_step(input)\n",
    "        out = self.output_layer.forward_step(hidden_layer_output)\n",
    "\n",
    "        return out\n",
    "\n",
    "    def backpropagation(self, grad_activation):\n",
    "        grad_input = self.output_layer.backward_step(grad_activation)\n",
    "        grad_input = self.hidden_layer.backward_step(grad_input)\n",
    "    "
   ]
  },
  {
   "cell_type": "markdown",
   "id": "af9ceaa5",
   "metadata": {},
   "source": [
    "# 2.4 Task 04 - Training\n",
    "1. Create a MLP with 1 hidden layer consisting of 10 units which all receive a single input, and an output layer with just 1 unit.\n",
    "2. Train your MLP on your data set for 1000 epochs:\n",
    "    • Once per epoch, show every data point in your data set to the MLP one at a time.\n",
    "    • For each data point, have the MLP perform a forward step using the input value and then propagate the error backwards through the network.\n",
    "    • After each data point, record the loss for later."
   ]
  },
  {
   "cell_type": "code",
   "execution_count": null,
   "id": "ad66db8a",
   "metadata": {},
   "outputs": [],
   "source": [
    "# Training neural network\n",
    "def train(mlp, x, t):\n",
    "    l = np.zeros(shape=x.shape)\n",
    "\n",
    "    for elem in range(x.shape[0]):\n",
    "        y = mlp.forward_step(np.expand_dims(np.asarray([x[elem]]), axis=0))\n",
    "        l[elem] = 0.5 * ((y[0][0] - t[elem])**2)\n",
    "        grad_activation = y[0][0] - t[elem]\n",
    "        mlp.backpropagation(grad_activation)\n",
    "\n",
    "    return l"
   ]
  },
  {
   "cell_type": "markdown",
   "id": "684228ba",
   "metadata": {},
   "source": [
    "# 2.5 Task 05 - Visualization\n",
    "Visualize the training progress using Matplotlib. Plot the epochs on the x-axis and the average loss on the y-axis."
   ]
  },
  {
   "cell_type": "code",
   "execution_count": null,
   "id": "ee720455",
   "metadata": {},
   "outputs": [],
   "source": [
    "# Shuffle dataset\n",
    "def shuffle_data(x,t):\n",
    "    indices = np.arange(x.shape[0])\n",
    "    np.random.shuffle(indices)\n",
    "    x = x[indices]\n",
    "    t = t[indices]\n",
    "\n",
    "    return x, t"
   ]
  },
  {
   "cell_type": "code",
   "execution_count": 13,
   "id": "bcb202a1",
   "metadata": {},
   "outputs": [
    {
     "ename": "NameError",
     "evalue": "name 'MLP' is not defined",
     "output_type": "error",
     "traceback": [
      "\u001b[1;31m---------------------------------------------------------------------------\u001b[0m",
      "\u001b[1;31mNameError\u001b[0m                                 Traceback (most recent call last)",
      "\u001b[1;32m~\\AppData\\Local\\Temp\\ipykernel_19336\\1024809583.py\u001b[0m in \u001b[0;36m<cell line: 1>\u001b[1;34m()\u001b[0m\n\u001b[1;32m----> 1\u001b[1;33m \u001b[0mmlp\u001b[0m \u001b[1;33m=\u001b[0m \u001b[0mMLP\u001b[0m\u001b[1;33m(\u001b[0m\u001b[0mLEARNING_RATE\u001b[0m\u001b[1;33m)\u001b[0m\u001b[1;33m\u001b[0m\u001b[1;33m\u001b[0m\u001b[0m\n\u001b[0m\u001b[0;32m      2\u001b[0m \u001b[1;33m\u001b[0m\u001b[0m\n\u001b[0;32m      3\u001b[0m \u001b[0mmean_l\u001b[0m \u001b[1;33m=\u001b[0m \u001b[1;33m[\u001b[0m\u001b[1;33m]\u001b[0m\u001b[1;33m\u001b[0m\u001b[1;33m\u001b[0m\u001b[0m\n\u001b[0;32m      4\u001b[0m \u001b[1;33m\u001b[0m\u001b[0m\n\u001b[0;32m      5\u001b[0m \u001b[1;32mfor\u001b[0m \u001b[0melem\u001b[0m \u001b[1;32min\u001b[0m \u001b[0mrange\u001b[0m\u001b[1;33m(\u001b[0m\u001b[0mEPOCHS\u001b[0m\u001b[1;33m)\u001b[0m\u001b[1;33m:\u001b[0m\u001b[1;33m\u001b[0m\u001b[1;33m\u001b[0m\u001b[0m\n",
      "\u001b[1;31mNameError\u001b[0m: name 'MLP' is not defined"
     ]
    }
   ],
   "source": [
    "mlp = MLP(LEARNING_RATE)\n",
    "\n",
    "mean_l = []\n",
    "\n",
    "for elem in range(EPOCHS):\n",
    "    x, t = shuffle_data(x, t)\n",
    "    losses = train(mlp, x, t)\n",
    "    mean_l.append(np.mean(losses))\n",
    "\n",
    "# Plot the mean loss\n",
    "plt.plot(range(EPOCHS), mean_l)\n",
    "plt.xlabel('Epoch')\n",
    "plt.ylabel('Mean loss')\n",
    "plt.title('Mean loss per epoch')\n",
    "plt.show()\n",
    "\n",
    "# Plot the predicted y-values\n",
    "y = np.ndarray(shape = x.shape)\n",
    "for elem in range(x.shape[0]):\n",
    "    y[elem] = mlp.forward_step(np.expand_dims(np.asarray([x[elem]]), axis=0))\n",
    "\n",
    "plt.scatter(x, y)\n",
    "plt.ylabel('Predicted y-value')\n",
    "plt.xlabel('Data')\n",
    "plt.title('Learned function')\n",
    "plt.show()"
   ]
  },
  {
   "cell_type": "code",
   "execution_count": null,
   "id": "1439425f",
   "metadata": {},
   "outputs": [],
   "source": []
  },
  {
   "cell_type": "code",
   "execution_count": null,
   "id": "55d1dfca",
   "metadata": {},
   "outputs": [],
   "source": []
  }
 ],
 "metadata": {
  "kernelspec": {
   "display_name": "Python 3",
   "language": "python",
   "name": "python3"
  },
  "language_info": {
   "codemirror_mode": {
    "name": "ipython",
    "version": 3
   },
   "file_extension": ".py",
   "mimetype": "text/x-python",
   "name": "python",
   "nbconvert_exporter": "python",
   "pygments_lexer": "ipython3",
   "version": "3.9.13"
  },
  "vscode": {
   "interpreter": {
    "hash": "40085467a1f8397c4e5d26f7782449357306b44a320391f8793ed50b1a736a31"
   }
  }
 },
 "nbformat": 4,
 "nbformat_minor": 5
}
